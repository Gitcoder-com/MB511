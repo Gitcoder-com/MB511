{
 "cells": [
  {
   "cell_type": "code",
   "execution_count": 1,
   "id": "d04daea2",
   "metadata": {
    "scrolled": true
   },
   "outputs": [
    {
     "name": "stdout",
     "output_type": "stream",
     "text": [
      "first cell\n"
     ]
    }
   ],
   "source": [
    "print('first cell')"
   ]
  },
  {
   "cell_type": "code",
   "execution_count": 5,
   "id": "33c1c73a",
   "metadata": {},
   "outputs": [
    {
     "name": "stdout",
     "output_type": "stream",
     "text": [
      "Second cell\n"
     ]
    }
   ],
   "source": [
    "print('Second cell')"
   ]
  },
  {
   "cell_type": "code",
   "execution_count": 3,
   "id": "1de69180",
   "metadata": {},
   "outputs": [
    {
     "name": "stdout",
     "output_type": "stream",
     "text": [
      "third cell\n"
     ]
    }
   ],
   "source": [
    "print('third cell')"
   ]
  },
  {
   "cell_type": "code",
   "execution_count": 4,
   "id": "92a42543",
   "metadata": {},
   "outputs": [
    {
     "name": "stdout",
     "output_type": "stream",
     "text": [
      "fourth cell\n"
     ]
    }
   ],
   "source": [
    "print('fourth cell')"
   ]
  }
 ],
 "metadata": {
  "kernelspec": {
   "display_name": "Python 3 (ipykernel)",
   "language": "python",
   "name": "python3"
  },
  "language_info": {
   "codemirror_mode": {
    "name": "ipython",
    "version": 3
   },
   "file_extension": ".py",
   "mimetype": "text/x-python",
   "name": "python",
   "nbconvert_exporter": "python",
   "pygments_lexer": "ipython3",
   "version": "3.9.13"
  }
 },
 "nbformat": 4,
 "nbformat_minor": 5
}
